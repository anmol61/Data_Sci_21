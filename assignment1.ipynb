{
 "cells": [
  {
   "cell_type": "markdown",
   "metadata": {},
   "source": [
    "# 1. What are the differences between operators and values in the following?\n",
    "* --> It a operator 'hello' --> it is value -87.8 --> value - --> operator / --> operator 8/3 --> 2.666666 + --> operator 6 --> value\n"
   ]
  },
  {
   "cell_type": "markdown",
   "metadata": {},
   "source": [
    "# 2. What is the difference between string and variable?\n",
    "spam 'spam'\n",
    "\n",
    "spam --> it a variable 'spam' --> it is a string"
   ]
  },
  {
   "cell_type": "markdown",
   "metadata": {},
   "source": [
    "# 3. Describe three different data forms.\n",
    " -->> 1. integer, 2. float, 3. string"
   ]
  },
  {
   "cell_type": "markdown",
   "metadata": {},
   "source": [
    "# 4. What makes up an expression? What are the functions of all expressions?\n",
    "--> An expression is an instruction that combines values and operators and always evaluates down to a single value. There are three kinds of expression: An arithmetic expression evaluates to a single arithmetic value. A character expression evaluates to a single value of type character. A logical or relational expression evaluates to a single logical value."
   ]
  },
  {
   "cell_type": "markdown",
   "metadata": {},
   "source": [
    "# 5. In this chapter, assignment statements such as spam = 10 were added. What's the difference between a declaration and an expression?\n",
    "--> declaration means binding it to a data type so here spam = 10 is a declaration and we can say it is of integer type. Expression is a combination of variables, operations and values that yields a result value. Ex --> 10*10\n",
    "\n"
   ]
  },
  {
   "cell_type": "markdown",
   "metadata": {},
   "source": [
    "# 6. After running the following code, what does the variable bacon contain?\n",
    "bacon = 22 bacon + 1\n",
    "\n",
    "--> 23"
   ]
  },
  {
   "cell_type": "markdown",
   "metadata": {},
   "source": [
    "# 7. What should the values of the following two terms be?\n",
    "'spam' + 'spamspam' 'spam' * 3\n",
    "\n",
    "--> The result will be both the above statements: 'spamspamspam'"
   ]
  },
  {
   "cell_type": "markdown",
   "metadata": {},
   "source": [
    "# 8. Why is it that eggs is a true variable name but 100 is not?\n",
    "--> A variable name must start with a letter or the underscore character. But a variable name can’t start with a number. That’s why eggs is a variable but 100 not a variable."
   ]
  },
  {
   "cell_type": "markdown",
   "metadata": {},
   "source": [
    "# 9. Which of the following three functions may be used to convert a value to an integer, a floating-point number, or a string?\n",
    "int ( a , base ) --> this function converts any data type to integer. Base specifies the base in which string is if the data type is a string. Float() --> this function is used to convert any data type to floating point number. Str() --> this function is used to convert any value to string."
   ]
  },
  {
   "cell_type": "markdown",
   "metadata": {},
   "source": [
    "# 10. What is the error caused by this expression? What would you do about it?\n",
    "'I have eaten ' + 99 + ' burritos.'\n",
    "\n",
    "-->> Since we know that we can’t concatenate integer with string that why the error comes that only concatenate str(not “int”) to str."
   ]
  },
  {
   "cell_type": "code",
   "execution_count": null,
   "metadata": {},
   "outputs": [],
   "source": []
  }
 ],
 "metadata": {
  "kernelspec": {
   "display_name": "Python 3",
   "language": "python",
   "name": "python3"
  },
  "language_info": {
   "codemirror_mode": {
    "name": "ipython",
    "version": 3
   },
   "file_extension": ".py",
   "mimetype": "text/x-python",
   "name": "python",
   "nbconvert_exporter": "python",
   "pygments_lexer": "ipython3",
   "version": "3.8.5"
  }
 },
 "nbformat": 4,
 "nbformat_minor": 4
}
