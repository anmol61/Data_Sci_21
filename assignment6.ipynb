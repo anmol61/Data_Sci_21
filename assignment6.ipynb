{
 "cells": [
  {
   "cell_type": "markdown",
   "metadata": {},
   "source": [
    "# 1. What are escape characters, and how do you use them?\n",
    "ANS ---> Escape characters represent characters in string values that would otherwise be difficult or impossible to type into code."
   ]
  },
  {
   "cell_type": "markdown",
   "metadata": {},
   "source": [
    "# 2. What do the escape characters n and t stand for?\n",
    "ANS --->>> \\n is a newline And \\t is a tab."
   ]
  },
  {
   "cell_type": "markdown",
   "metadata": {},
   "source": [
    "# 3. What is the way to include backslash characters in a string?\n",
    "ANS -->> The \\ escape is used"
   ]
  },
  {
   "cell_type": "markdown",
   "metadata": {},
   "source": [
    "# 4. The string \"Howl's Moving Castle\" is a correct value. Why isn't the single quote character in the word Howl's not escaped a problem?\n",
    "ANS -->>> The single quote in Howl's is fine because we have used double quotes to mark the beginning and end of the string."
   ]
  },
  {
   "cell_type": "markdown",
   "metadata": {},
   "source": [
    "# 5. How do you write a string of newlines if you don't want to use the n character?\n",
    "ANS -->> With the help of Multiline strings we can do it"
   ]
  },
  {
   "cell_type": "markdown",
   "metadata": {},
   "source": [
    "# 6. What are the values of the given expressions?\n",
    "'Hello, world!'[1] 'Hello, world!'[0:5] 'Hello, world!'[:5] 'Hello, world!'[3:]\n",
    "\n",
    "ANS --->>> 'e'\n",
    "\n",
    "    'Hello'\n",
    "\n",
    "     'Hello'\n",
    "\n",
    "     'lo world!"
   ]
  },
  {
   "cell_type": "markdown",
   "metadata": {},
   "source": [
    "# 7. What are the values of the following expressions?\n",
    "'Hello'.upper() 'Hello'.upper().isupper() 'Hello'.upper().lower()\n",
    "\n",
    "ANS --->>> 'HELLO'\n",
    "\n",
    "    True\n",
    "\n",
    "    'hello'"
   ]
  },
  {
   "cell_type": "markdown",
   "metadata": {},
   "source": [
    "# 8. What are the values of the following expressions?\n",
    "'Remember, remember, the fifth of July.'.split() '-'.join('There can only one.'.split())\n",
    "\n",
    "ANS -->>> ['Remember,', 'remember,', 'the', 'fifth', 'of', 'November.'] 'There-can-be-only-one.'"
   ]
  },
  {
   "cell_type": "markdown",
   "metadata": {},
   "source": [
    "# 9. What are the methods for right-justifying, left-justifying, and centering a string?\n",
    "ANS -->>> rjust() is used for right-justifying ljust() is used for left-justifying and center() is used for centring string methods"
   ]
  },
  {
   "cell_type": "markdown",
   "metadata": {},
   "source": [
    "# 10. What is the best way to remove whitespace characters from the start or end?\n",
    "ANS --->>> lstrip() and rstrip()"
   ]
  },
  {
   "cell_type": "code",
   "execution_count": null,
   "metadata": {},
   "outputs": [],
   "source": []
  }
 ],
 "metadata": {
  "kernelspec": {
   "display_name": "Python 3",
   "language": "python",
   "name": "python3"
  },
  "language_info": {
   "codemirror_mode": {
    "name": "ipython",
    "version": 3
   },
   "file_extension": ".py",
   "mimetype": "text/x-python",
   "name": "python",
   "nbconvert_exporter": "python",
   "pygments_lexer": "ipython3",
   "version": "3.8.5"
  }
 },
 "nbformat": 4,
 "nbformat_minor": 4
}
